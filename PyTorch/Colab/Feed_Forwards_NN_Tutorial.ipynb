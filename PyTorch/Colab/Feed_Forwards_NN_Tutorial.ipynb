{
  "nbformat": 4,
  "nbformat_minor": 0,
  "metadata": {
    "colab": {
      "name": "Feed Forwards NN Tutorial.ipynb",
      "version": "0.3.2",
      "provenance": [],
      "collapsed_sections": []
    },
    "kernelspec": {
      "name": "python3",
      "display_name": "Python 3"
    }
  },
  "cells": [
    {
      "metadata": {
        "id": "hpGRyfOHgM6R",
        "colab_type": "text"
      },
      "cell_type": "markdown",
      "source": [
        "# **PyTorch Simple Feed ForwardNetwork to Classify MNIST digits**\n",
        "**Required Packages**\n",
        "PyTorch, Torchvision\n",
        "\n",
        "\n",
        "\n",
        "---\n",
        "\n"
      ]
    },
    {
      "metadata": {
        "id": "x8pcvO-PpauG",
        "colab_type": "code",
        "colab": {
          "base_uri": "https://localhost:8080/",
          "height": 54
        },
        "outputId": "b27861cf-d576-43af-c130-0cc645a07274"
      },
      "cell_type": "code",
      "source": [
        "#### Check Python Version\n",
        "import sys\n",
        "sys.version"
      ],
      "execution_count": 14,
      "outputs": [
        {
          "output_type": "execute_result",
          "data": {
            "text/plain": [
              "'3.6.6 (default, Sep 12 2018, 18:26:19) \\n[GCC 8.0.1 20180414 (experimental) [trunk revision 259383]]'"
            ]
          },
          "metadata": {
            "tags": []
          },
          "execution_count": 14
        }
      ]
    },
    {
      "metadata": {
        "id": "ZfjRpzoBg7Nk",
        "colab_type": "code",
        "colab": {
          "base_uri": "https://localhost:8080/",
          "height": 123
        },
        "outputId": "fadbd941-7da5-4cd9-c8fd-ad047287f8b9"
      },
      "cell_type": "code",
      "source": [
        "#### Install PyTorch\n",
        "!pip install torch torchvision"
      ],
      "execution_count": 15,
      "outputs": [
        {
          "output_type": "stream",
          "text": [
            "Requirement already satisfied: torch in /usr/local/lib/python3.6/dist-packages (0.4.1)\n",
            "Requirement already satisfied: torchvision in /usr/local/lib/python3.6/dist-packages (0.2.1)\n",
            "Requirement already satisfied: pillow>=4.1.1 in /usr/local/lib/python3.6/dist-packages (from torchvision) (5.3.0)\n",
            "Requirement already satisfied: six in /usr/local/lib/python3.6/dist-packages (from torchvision) (1.11.0)\n",
            "Requirement already satisfied: numpy in /usr/local/lib/python3.6/dist-packages (from torchvision) (1.14.6)\n"
          ],
          "name": "stdout"
        }
      ]
    },
    {
      "metadata": {
        "id": "yZG9Y5gnk9eP",
        "colab_type": "code",
        "colab": {}
      },
      "cell_type": "code",
      "source": [
        "#### Import PyTorch\n",
        "import torch\n",
        "import torch.nn as nn\n",
        "import torchvision.datasets as dsets\n",
        "import torchvision.transforms as transforms\n",
        "from torch.autograd import Variable"
      ],
      "execution_count": 0,
      "outputs": []
    },
    {
      "metadata": {
        "id": "IhPlOdDZozPl",
        "colab_type": "code",
        "colab": {}
      },
      "cell_type": "code",
      "source": [
        "#### Initialize Hyper-Parameters\n",
        "input_size    = 784   # The image size = 28 x 28 = 784\n",
        "hidden_size   = 500   # The number of nodes at the hidden layer\n",
        "num_classes   = 10    # The number of output classes. In this case, from 0 to 9\n",
        "num_epochs    = 5     # The number of times entire dataset is trained\n",
        "batch_size    = 100   # The size of input data took for one iteration\n",
        "learning_rate = 1e-3  # The speed of convergence"
      ],
      "execution_count": 0,
      "outputs": []
    },
    {
      "metadata": {
        "id": "j2drYFAIo-Ci",
        "colab_type": "code",
        "colab": {}
      },
      "cell_type": "code",
      "source": [
        "#### Download MNIST Dataset\n",
        "# MNIST is a huge database of handwritten digits (i.e. 0 to 9) that is often used in image classification.\n",
        "train_dataset = dsets.MNIST(root='./data',\n",
        "                           train=True,\n",
        "                           transform=transforms.ToTensor(),\n",
        "                           download=True)\n",
        "\n",
        "test_dataset = dsets.MNIST(root='./data',\n",
        "                           train=False,\n",
        "                           transform=transforms.ToTensor())"
      ],
      "execution_count": 0,
      "outputs": []
    },
    {
      "metadata": {
        "id": "RKeSDHGxqOeG",
        "colab_type": "code",
        "colab": {}
      },
      "cell_type": "code",
      "source": [
        "#### Load the Dataset\n",
        "# Shuffle loading process of training dataset to make the learning process independant of data order.\n",
        "# Do not shuffle loading process of test dataset to evaluate if system can handle unspecified bias order of inputs.\n",
        "train_loader = torch.utils.data.DataLoader(dataset=train_dataset,\n",
        "                                          batch_size=batch_size,\n",
        "                                          shuffle=True)\n",
        "\n",
        "test_loader = torch.utils.data.DataLoader(dataset=test_dataset,\n",
        "                                          batch_size=batch_size,\n",
        "                                          shuffle=False)"
      ],
      "execution_count": 0,
      "outputs": []
    },
    {
      "metadata": {
        "id": "QtPljsQyrSr3",
        "colab_type": "code",
        "colab": {}
      },
      "cell_type": "code",
      "source": [
        "#### Build Feedforward Neural Network\n",
        "# FNN 2 fully connected layers [fc1 & fc2] w/ non-linear ReLU layer inbetween.\n",
        "# Structure is called a 1-hidden layer FNN, not counting output layer [fc2]\n",
        "# By running the forward pass, the input images (x) can go through the neural network and generate a output (out) demonstrating how are the likabilities it belongs to each of the 10 classes.\n",
        "# Eg: Cat image can have 0.8 likability to a dog class and a 0.3 likability to a airplane class\n",
        "\n",
        "class Net(nn.Module):\n",
        "    def __init__(self, input_size, hidden_size, num_classes):\n",
        "        super(Net, self).__init__()                    # Inherited from the parent class nn.Module\n",
        "        self.fc1 = nn.Linear(input_size, hidden_size)  # 1st Full-Connected Layer: 784 (input data) -> 500 (hidden node)\n",
        "        self.relu = nn.ReLU()                          # Non-Linear ReLU Layer: max(0,x)\n",
        "        self.fc2 = nn.Linear(hidden_size, num_classes) # 2nd Full-Connected Layer: 500 (hidden node) -> 10 (output class)\n",
        "    \n",
        "    def forward(self, x):                              # Forward pass: stacking each layer together\n",
        "        out = self.fc1(x)\n",
        "        out = self.relu(out)\n",
        "        out = self.fc2(out)\n",
        "        return out"
      ],
      "execution_count": 0,
      "outputs": []
    },
    {
      "metadata": {
        "id": "IUWCNDYN7Vvf",
        "colab_type": "code",
        "colab": {}
      },
      "cell_type": "code",
      "source": [
        "#### Instantiate FNN\n",
        "# create a real FNN based on our structure.\n",
        "net = Net(input_size, hidden_size, num_classes)"
      ],
      "execution_count": 0,
      "outputs": []
    },
    {
      "metadata": {
        "id": "2wTB755u7h_a",
        "colab_type": "code",
        "colab": {}
      },
      "cell_type": "code",
      "source": [
        "#### Enable GPU\n",
        "# Use to run code on GPU\n",
        "use_cuda = True\n",
        "if use_cuda and torch.cuda.is_available():\n",
        "    net.cuda()"
      ],
      "execution_count": 0,
      "outputs": []
    },
    {
      "metadata": {
        "id": "RU8XUBdT7uRa",
        "colab_type": "code",
        "colab": {}
      },
      "cell_type": "code",
      "source": [
        "#### Choose Loss Function and Optimizer\n",
        "#Loss function (criterion) decides how the output can be compared to a class, which determines how good or bad the neural network performs.\n",
        "#The optimizer chooses a way to update the weight in order to converge to find the best weights in this neural network.\n",
        "criterion = nn.CrossEntropyLoss()\n",
        "optimizer = torch.optim.Adam(net.parameters(), lr=learning_rate)"
      ],
      "execution_count": 0,
      "outputs": []
    },
    {
      "metadata": {
        "id": "Lmq7rriU79br",
        "colab_type": "code",
        "colab": {
          "base_uri": "https://localhost:8080/",
          "height": 570
        },
        "outputId": "f9c51884-cb83-4de2-a804-cd1ae3b8cba2"
      },
      "cell_type": "code",
      "source": [
        "#### Train the FNN Model\n",
        "for epoch in range(num_epochs):\n",
        "    for i, (images, labels) in enumerate(train_loader):   # Load a batch of images with its (index, data, class)\n",
        "        images = Variable(images.view(-1, 28*28))         # Convert torch tensor to Variable: change image from a vector of size 784 to a matrix of 28 x 28\n",
        "        labels = Variable(labels)\n",
        "        \n",
        "        if use_cuda and torch.cuda.is_available():\n",
        "            images = images.cuda()\n",
        "            labels = labels.cuda()\n",
        "        \n",
        "        optimizer.zero_grad()                             # Intialize the hidden weight to all zeros\n",
        "        outputs = net(images)                             # Forward pass: compute the output class given a image\n",
        "        loss = criterion(outputs, labels)                 # Compute the loss: difference between the output class and the pre-given label\n",
        "        loss.backward()                                   # Backward pass: compute the weight\n",
        "        optimizer.step()                                  # Optimizer: update the weights of hidden nodes\n",
        "        \n",
        "        if (i+1) % 100 == 0:                              # Logging\n",
        "            print('Epoch [%d/%d], Step [%d/%d], Loss: %.4f'\n",
        "                 %(epoch+1, num_epochs, i+1, len(train_dataset)//batch_size, loss.data[0]))\n"
      ],
      "execution_count": 24,
      "outputs": [
        {
          "output_type": "stream",
          "text": [
            "/usr/local/lib/python3.6/dist-packages/ipykernel_launcher.py:18: UserWarning: invalid index of a 0-dim tensor. This will be an error in PyTorch 0.5. Use tensor.item() to convert a 0-dim tensor to a Python number\n"
          ],
          "name": "stderr"
        },
        {
          "output_type": "stream",
          "text": [
            "Epoch [1/5], Step [100/600], Loss: 0.3670\n",
            "Epoch [1/5], Step [200/600], Loss: 0.3031\n",
            "Epoch [1/5], Step [300/600], Loss: 0.2453\n",
            "Epoch [1/5], Step [400/600], Loss: 0.1629\n",
            "Epoch [1/5], Step [500/600], Loss: 0.2306\n",
            "Epoch [1/5], Step [600/600], Loss: 0.1094\n",
            "Epoch [2/5], Step [100/600], Loss: 0.1202\n",
            "Epoch [2/5], Step [200/600], Loss: 0.1174\n",
            "Epoch [2/5], Step [300/600], Loss: 0.1287\n",
            "Epoch [2/5], Step [400/600], Loss: 0.2772\n",
            "Epoch [2/5], Step [500/600], Loss: 0.0592\n",
            "Epoch [2/5], Step [600/600], Loss: 0.1220\n",
            "Epoch [3/5], Step [100/600], Loss: 0.0971\n",
            "Epoch [3/5], Step [200/600], Loss: 0.0844\n",
            "Epoch [3/5], Step [300/600], Loss: 0.0614\n",
            "Epoch [3/5], Step [400/600], Loss: 0.0679\n",
            "Epoch [3/5], Step [500/600], Loss: 0.0256\n",
            "Epoch [3/5], Step [600/600], Loss: 0.0682\n",
            "Epoch [4/5], Step [100/600], Loss: 0.0563\n",
            "Epoch [4/5], Step [200/600], Loss: 0.0548\n",
            "Epoch [4/5], Step [300/600], Loss: 0.0376\n",
            "Epoch [4/5], Step [400/600], Loss: 0.0744\n",
            "Epoch [4/5], Step [500/600], Loss: 0.0690\n",
            "Epoch [4/5], Step [600/600], Loss: 0.0588\n",
            "Epoch [5/5], Step [100/600], Loss: 0.0450\n",
            "Epoch [5/5], Step [200/600], Loss: 0.0515\n",
            "Epoch [5/5], Step [300/600], Loss: 0.0061\n",
            "Epoch [5/5], Step [400/600], Loss: 0.0408\n",
            "Epoch [5/5], Step [500/600], Loss: 0.0331\n",
            "Epoch [5/5], Step [600/600], Loss: 0.0624\n"
          ],
          "name": "stdout"
        }
      ]
    },
    {
      "metadata": {
        "id": "peJCqAR88FkT",
        "colab_type": "code",
        "colab": {
          "base_uri": "https://localhost:8080/",
          "height": 34
        },
        "outputId": "6fddcd30-beac-436e-cfe0-d59e097e6f7d"
      },
      "cell_type": "code",
      "source": [
        "#### Test the FNN Model\n",
        "# Similar to training the neural network, we also need to load batches of test images and collect the outputs.\n",
        "# The differences are that:\n",
        "# -No loss & weights calculation\n",
        "# -No weights update\n",
        "# -Has correct prediction calculation\n",
        "correct = 0\n",
        "total = 0\n",
        "for images, labels in test_loader:\n",
        "    images = Variable(images.view(-1, 28*28))\n",
        "    \n",
        "    if use_cuda and torch.cuda.is_available():\n",
        "        images = images.cuda()\n",
        "        labels = labels.cuda()\n",
        "    \n",
        "    \n",
        "    outputs = net(images)\n",
        "    _, predicted = torch.max(outputs.data, 1)  # Choose the best class from the output: The class with the best score\n",
        "    total += labels.size(0)                    # Increment the total count\n",
        "    correct += (predicted == labels).sum()     # Increment the correct count\n",
        "    \n",
        "print('Accuracy of the network on the 10K test images: %d %%' % (100 * correct / total))"
      ],
      "execution_count": 25,
      "outputs": [
        {
          "output_type": "stream",
          "text": [
            "Accuracy of the network on the 10K test images: 97 %\n"
          ],
          "name": "stdout"
        }
      ]
    },
    {
      "metadata": {
        "id": "5ApnUITv8gwg",
        "colab_type": "code",
        "colab": {}
      },
      "cell_type": "code",
      "source": [
        "#### Save Trained FNN Model for Future Use\n",
        "# Save the trained model as a pickle that can be loaded and used later.\n",
        "torch.save(net.state_dict(), 'fnn_model.pkl')"
      ],
      "execution_count": 0,
      "outputs": []
    }
  ]
}
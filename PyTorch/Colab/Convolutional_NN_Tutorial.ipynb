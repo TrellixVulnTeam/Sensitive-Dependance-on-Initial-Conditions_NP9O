{
  "nbformat": 4,
  "nbformat_minor": 0,
  "metadata": {
    "colab": {
      "name": "Convolutional NN Tutorial.ipynb",
      "version": "0.3.2",
      "provenance": [],
      "toc_visible": true
    }
  },
  "cells": [
    {
      "metadata": {
        "id": "hP8pNa0CDzKk",
        "colab_type": "text"
      },
      "cell_type": "markdown",
      "source": [
        "# Training a CNN Classifier to Solve Prediction Problem w/ CIFAR10 Dataset\n",
        "**Required Packages** PyTorch, Torchvision\n",
        "  \n",
        "  Generally, when you have to deal with image, text, audio or video data,\n",
        "you can use standard python packages that load data into a numpy array.\n",
        "Then you can convert this array into a ``torch.*Tensor``.\n",
        "  \n",
        "-  For images, packages such as Pillow, OpenCV are useful\n",
        "-  For audio, packages such as scipy and librosa\n",
        "-  For text, either raw Python or Cython based loading, or NLTK and SpaCy are useful\n",
        "  \n",
        "Specifically for vision, we have created a package called\n",
        "``torchvision``, that has data loaders for common datasets such as\n",
        "Imagenet, CIFAR10, MNIST, etc. and data transformers for images, viz.,\n",
        "``torchvision.datasets`` and ``torch.utils.data.DataLoader``.\n",
        "  \n",
        "We will do the following steps in order:\n",
        "  \n",
        "1. Load and normalizing the CIFAR10 training and test datasets using ``torchvision``\n",
        "2. Define a Convolution Neural Network\n",
        "3. Define a loss function\n",
        "4. Train the network on the training data\n",
        "5. Test the network on the test data"
      ]
    },
    {
      "metadata": {
        "id": "-RMqPoVcFkyS",
        "colab_type": "code",
        "colab": {
          "base_uri": "https://localhost:8080/",
          "height": 347
        },
        "outputId": "03c0b55a-2454-42c8-e22a-d25871043d1a"
      },
      "cell_type": "code",
      "source": [
        "#### Install PyTorch\n",
        "!pip install torch torchvision"
      ],
      "execution_count": 2,
      "outputs": [
        {
          "output_type": "stream",
          "text": [
            "Collecting torch\n",
            "\u001b[?25l  Downloading https://files.pythonhosted.org/packages/06/a7/6a173738dd6be014ebf9ba6f0b441d91b113b1506a98e10da4ff60994b54/torch-0.4.1-cp27-cp27mu-manylinux1_x86_64.whl (519.5MB)\n",
            "\u001b[K    100% |████████████████████████████████| 519.5MB 25kB/s \n",
            "tcmalloc: large alloc 1073750016 bytes == 0x55d995df4000 @  0x7f83a4dae2a4 0x55d93c6a8b68 0x55d93c79492d 0x55d93c6bc01a 0x55d93c6c0d72 0x55d93c6b98ca 0x55d93c6c124e 0x55d93c6b98ca 0x55d93c6c124e 0x55d93c6b98ca 0x55d93c6c124e 0x55d93c6b98ca 0x55d93c6c17d3 0x55d93c6b98ca 0x55d93c6c124e 0x55d93c6b98ca 0x55d93c6c124e 0x55d93c6c0d72 0x55d93c6c0d72 0x55d93c6b98ca 0x55d93c6c17d3 0x55d93c6c0d72 0x55d93c6b98ca 0x55d93c6c17d3 0x55d93c6b98ca 0x55d93c6c17d3 0x55d93c6b98ca 0x55d93c6c124e 0x55d93c6b98ca 0x55d93c6b91e9 0x55d93c6e9bdf\n",
            "\u001b[?25hCollecting torchvision\n",
            "\u001b[?25l  Downloading https://files.pythonhosted.org/packages/ca/0d/f00b2885711e08bd71242ebe7b96561e6f6d01fdb4b9dcf4d37e2e13c5e1/torchvision-0.2.1-py2.py3-none-any.whl (54kB)\n",
            "\u001b[K    100% |████████████████████████████████| 61kB 22.0MB/s \n",
            "\u001b[?25hRequirement already satisfied: six in /usr/local/lib/python2.7/dist-packages (from torchvision) (1.11.0)\n",
            "Requirement already satisfied: numpy in /usr/local/lib/python2.7/dist-packages (from torchvision) (1.14.6)\n",
            "Collecting pillow>=4.1.1 (from torchvision)\n",
            "\u001b[33m  Retrying (Retry(total=4, connect=None, read=None, redirect=None, status=None)) after connection broken by 'ProtocolError('Connection aborted.', error(104, 'Connection reset by peer'))': /simple/pillow/\u001b[0m\n",
            "\u001b[?25l  Downloading https://files.pythonhosted.org/packages/9a/f6/3b3c82c5c75cae471e02fb584136168d732e17ae9db2d21c5dc82f9790f8/Pillow-5.3.0-cp27-cp27mu-manylinux1_x86_64.whl (2.0MB)\n",
            "\u001b[K    100% |████████████████████████████████| 2.0MB 2.5MB/s \n",
            "\u001b[?25hInstalling collected packages: torch, pillow, torchvision\n",
            "  Found existing installation: Pillow 4.0.0\n",
            "    Uninstalling Pillow-4.0.0:\n",
            "      Successfully uninstalled Pillow-4.0.0\n",
            "Successfully installed pillow-5.3.0 torch-0.4.1 torchvision-0.2.1\n"
          ],
          "name": "stdout"
        }
      ]
    },
    {
      "metadata": {
        "id": "eRQn38OpGziW",
        "colab_type": "text"
      },
      "cell_type": "markdown",
      "source": [
        "# 1: Loading and Normalising CIFAR10"
      ]
    },
    {
      "metadata": {
        "id": "pN4nURc0FnL0",
        "colab_type": "code",
        "colab": {}
      },
      "cell_type": "code",
      "source": [
        "#### Loading and Normalising CIFAR10\n",
        "# Use torchvision to load CIFAR10\n",
        "import torch\n",
        "import torchvision\n",
        "import torchvision.transforms as transforms\n",
        "# The output of torchvision datasets are PILImage images of range [0, 1].\n",
        "# We transform them to Tensors of normalized range [-1, 1].\n",
        "transform = transforms.Compose(\n",
        "    [transforms.ToTensor(),\n",
        "     transforms.Normalize((0.5, 0.5, 0.5), (0.5, 0.5, 0.5))])"
      ],
      "execution_count": 0,
      "outputs": []
    },
    {
      "metadata": {
        "id": "VoImMZbqDjOc",
        "colab_type": "code",
        "colab": {
          "base_uri": "https://localhost:8080/",
          "height": 51
        },
        "outputId": "39c99f0f-5480-4eb7-96c1-6adf43fe762d"
      },
      "cell_type": "code",
      "source": [
        "#### Download CIFAR10 Dataset\n",
        "trainset = torchvision.datasets.CIFAR10(root='./data', train=True,\n",
        "                                        download=True, transform=transform)\n",
        "\n",
        "testset = torchvision.datasets.CIFAR10(root='./data', train=False,\n",
        "                                       download=True, transform=transform)"
      ],
      "execution_count": 4,
      "outputs": [
        {
          "output_type": "stream",
          "text": [
            "Downloading https://www.cs.toronto.edu/~kriz/cifar-10-python.tar.gz to ./data/cifar-10-python.tar.gz\n",
            "Files already downloaded and verified\n"
          ],
          "name": "stdout"
        }
      ]
    },
    {
      "metadata": {
        "id": "m1YdAVxmHHtn",
        "colab_type": "code",
        "colab": {}
      },
      "cell_type": "code",
      "source": [
        "#### Load the Dataset\n",
        "# Shuffle loading process of training dataset to make the learning process independant of data order.\n",
        "# Do not shuffle loading process of test dataset to evaluate if system can handle unspecified bias order of inputs.\n",
        "trainloader = torch.utils.data.DataLoader(trainset, batch_size=4,\n",
        "                                          shuffle=True, num_workers=2)\n",
        "\n",
        "testloader = torch.utils.data.DataLoader(testset, batch_size=4,\n",
        "                                         shuffle=False, num_workers=2)"
      ],
      "execution_count": 0,
      "outputs": []
    },
    {
      "metadata": {
        "id": "wL9g6ynMHmo3",
        "colab_type": "code",
        "colab": {}
      },
      "cell_type": "code",
      "source": [
        "#### Classes used in CIFAR10\n",
        "classes = ('plane', 'car', 'bird', 'cat',\n",
        "           'deer', 'dog', 'frog', 'horse', 'ship', 'truck')"
      ],
      "execution_count": 0,
      "outputs": []
    },
    {
      "metadata": {
        "id": "gpUIsKzLHr1y",
        "colab_type": "code",
        "colab": {
          "base_uri": "https://localhost:8080/",
          "height": 184
        },
        "outputId": "7b66f16d-b689-4b4b-cd9c-a7a6c657b1d0"
      },
      "cell_type": "code",
      "source": [
        "#### Show Images in Dataset\n",
        "import matplotlib.pyplot as plt\n",
        "import numpy as np\n",
        "# Define Function to Show Image\n",
        "def imshow(img):\n",
        "    img = img / 2 + 0.5     # unnormalize\n",
        "    npimg = img.numpy()\n",
        "    plt.imshow(np.transpose(npimg, (1, 2, 0)))\n",
        "# Declare to Pull Random Image\n",
        "dataiter = iter(trainloader)\n",
        "images, labels = dataiter.next()\n",
        "# Declare to Show Image\n",
        "imshow(torchvision.utils.make_grid(images))\n",
        "# Print Labels\n",
        "print(' '.join('%5s' % classes[labels[j]] for j in range(4)))"
      ],
      "execution_count": 7,
      "outputs": [
        {
          "output_type": "stream",
          "text": [
            "  cat  bird  ship  bird\n"
          ],
          "name": "stdout"
        },
        {
          "output_type": "display_data",
          "data": {
            "image/png": "[encoded data removed]",
            "text/plain": [
              "<matplotlib.figure.Figure at 0x7f66c2867610>"
            ]
          },
          "metadata": {
            "tags": []
          }
        }
      ]
    },
    {
      "metadata": {
        "id": "igI2cMcqN8ts",
        "colab_type": "text"
      },
      "cell_type": "markdown",
      "source": [
        "# 2: Define a Convolution Neural Network"
      ]
    },
    {
      "metadata": {
        "id": "geAokmuLOEBU",
        "colab_type": "code",
        "colab": {}
      },
      "cell_type": "code",
      "source": [
        "#### Import PyTorch\n",
        "import torch.nn as nn\n",
        "import torch.nn.functional as F"
      ],
      "execution_count": 0,
      "outputs": []
    },
    {
      "metadata": {
        "id": "BH0g3fFJPu0g",
        "colab_type": "code",
        "colab": {}
      },
      "cell_type": "code",
      "source": [
        "#### Initialize Hyper-Parameters\n",
        "# Not Used in this case"
      ],
      "execution_count": 0,
      "outputs": []
    },
    {
      "metadata": {
        "id": "K5Po3ifXOsKC",
        "colab_type": "code",
        "colab": {}
      },
      "cell_type": "code",
      "source": [
        "#### Build Convolution Neural Network\n",
        "class Net(nn.Module):\n",
        "    def __init__(self):\n",
        "        super(Net, self).__init__()\n",
        "        self.conv1 = nn.Conv2d(3, 6, 5)\n",
        "        self.pool = nn.MaxPool2d(2, 2)\n",
        "        self.conv2 = nn.Conv2d(6, 16, 5)\n",
        "        self.fc1 = nn.Linear(16 * 5 * 5, 120)\n",
        "        self.fc2 = nn.Linear(120, 84)\n",
        "        self.fc3 = nn.Linear(84, 10)\n",
        "\n",
        "    def forward(self, x):\n",
        "        x = self.pool(F.relu(self.conv1(x)))\n",
        "        x = self.pool(F.relu(self.conv2(x)))\n",
        "        x = x.view(-1, 16 * 5 * 5)\n",
        "        x = F.relu(self.fc1(x))\n",
        "        x = F.relu(self.fc2(x))\n",
        "        x = self.fc3(x)\n",
        "        return x"
      ],
      "execution_count": 0,
      "outputs": []
    },
    {
      "metadata": {
        "id": "rCsoKaonPeD6",
        "colab_type": "code",
        "colab": {}
      },
      "cell_type": "code",
      "source": [
        "#### Instantiate FNN\n",
        "# create a real CNN based on our structure.\n",
        "net = Net()"
      ],
      "execution_count": 0,
      "outputs": []
    },
    {
      "metadata": {
        "id": "7JnR8sQLPj0E",
        "colab_type": "code",
        "colab": {}
      },
      "cell_type": "code",
      "source": [
        "#### Enable GPU\n",
        "# Use to run code on GPU\n",
        "use_cuda = True\n",
        "if use_cuda and torch.cuda.is_available():\n",
        "    net.cuda()"
      ],
      "execution_count": 0,
      "outputs": []
    },
    {
      "metadata": {
        "id": "ZE9Zfl6pQD49",
        "colab_type": "text"
      },
      "cell_type": "markdown",
      "source": [
        "# 3: Define a Loss Function and Optimizer"
      ]
    },
    {
      "metadata": {
        "id": "8J49-dNpQVXb",
        "colab_type": "code",
        "colab": {}
      },
      "cell_type": "code",
      "source": [
        "#### Import PyTorch\n",
        "import torch.optim as optim"
      ],
      "execution_count": 0,
      "outputs": []
    },
    {
      "metadata": {
        "id": "jTpGS-1mQDEq",
        "colab_type": "code",
        "colab": {}
      },
      "cell_type": "code",
      "source": [
        "#### Choose Loss Function and Optimizer\n",
        "#Loss function (criterion) decides how the output can be compared to a class, which determines how good or bad the neural network performs.\n",
        "#The optimizer chooses a way to update the weight in order to converge to find the best weights in this neural network.\n",
        "#In this case, we use a Classification Cross-Entropy loss and SGD with momentum.\n",
        "criterion = nn.CrossEntropyLoss()\n",
        "optimizer = optim.SGD(net.parameters(), lr=0.001, momentum=0.9)"
      ],
      "execution_count": 0,
      "outputs": []
    },
    {
      "metadata": {
        "id": "Wb5lWRHXQ2RO",
        "colab_type": "text"
      },
      "cell_type": "markdown",
      "source": [
        "# 4: Train the Network"
      ]
    },
    {
      "metadata": {
        "id": "UgBv2GM6Q-Ai",
        "colab_type": "code",
        "colab": {
          "base_uri": "https://localhost:8080/",
          "height": 241
        },
        "outputId": "bdefea6c-d3d3-4e8a-d0b6-a7c0d7e28b91"
      },
      "cell_type": "code",
      "source": [
        "#### Train the CNN Model\n",
        "# We loop over our data iterator, and feed the inputs to the network and optimize.\n",
        "for epoch in range(2):  # loop over the dataset multiple times\n",
        "\n",
        "    running_loss = 0.0\n",
        "    for i, data in enumerate(trainloader, 0):   # Load a batch of images with its (index, data, class)\n",
        "        # get the inputs\n",
        "        inputs, labels = data\n",
        "\n",
        "        # zero the parameter gradients\n",
        "        optimizer.zero_grad()                   # Intialize the hidden weight to all zeros\n",
        "\n",
        "        # forward + backward + optimize\n",
        "        outputs = net(inputs)                   # Forward pass: compute the output class given a image\n",
        "        loss = criterion(outputs, labels)       # Compute the loss: difference between the output class and the pre-given label\n",
        "        loss.backward()                         # Backward pass: compute the weight\n",
        "        optimizer.step()                        # Optimizer: update the weights of hidden nodes\n",
        "\n",
        "        # print statistics\n",
        "        running_loss += loss.item()\n",
        "        if i % 2000 == 1999:    # print every 2000 mini-batches\n",
        "            print('[%d, %5d] loss: %.3f' %\n",
        "                  (epoch + 1, i + 1, running_loss / 2000))\n",
        "            running_loss = 0.0\n",
        "\n",
        "print('Finished Training')"
      ],
      "execution_count": 15,
      "outputs": [
        {
          "output_type": "stream",
          "text": [
            "[1,  2000] loss: 2.223\n",
            "[1,  4000] loss: 1.959\n",
            "[1,  6000] loss: 1.735\n",
            "[1,  8000] loss: 1.613\n",
            "[1, 10000] loss: 1.512\n",
            "[1, 12000] loss: 1.466\n",
            "[2,  2000] loss: 1.403\n",
            "[2,  4000] loss: 1.378\n",
            "[2,  6000] loss: 1.360\n",
            "[2,  8000] loss: 1.320\n",
            "[2, 10000] loss: 1.303\n",
            "[2, 12000] loss: 1.291\n",
            "Finished Training\n"
          ],
          "name": "stdout"
        }
      ]
    },
    {
      "metadata": {
        "id": "ew8gcwOESjhI",
        "colab_type": "text"
      },
      "cell_type": "markdown",
      "source": [
        "# 5: Test the Network on Test Data"
      ]
    },
    {
      "metadata": {
        "id": "kBCBeTojSpRl",
        "colab_type": "code",
        "colab": {
          "base_uri": "https://localhost:8080/",
          "height": 201
        },
        "outputId": "59bc5ee5-0c46-4580-f130-b66fc1f6664d"
      },
      "cell_type": "code",
      "source": [
        "#### Display an image from the test set to get familiar.\n",
        "# Trained network for 2 passes over the training dataset.\n",
        "# Need to check if the network has learnt anything at all.\n",
        "#\n",
        "# Check this by predicting the class label that the neural network\n",
        "# outputs, and checking it against the ground-truth. If the prediction is\n",
        "# correct, we add the sample to the list of correct predictions.\n",
        "dataiter = iter(testloader)\n",
        "images, labels = dataiter.next()\n",
        "# print images\n",
        "imshow(torchvision.utils.make_grid(images))\n",
        "print('GroundTruth: ', ' '.join('%5s' % classes[labels[j]] for j in range(4)))\n",
        "# Okay, now let us see what the neural network thinks these examples above are:\n",
        "outputs = net(images)\n",
        "# The outputs are energies for the 10 classes.\n",
        "# Higher the energy for a class, the more the network\n",
        "# thinks that the image is of the particular class.\n",
        "# So, let's get the index of the highest energy:\n",
        "_, predicted = torch.max(outputs, 1)\n",
        "\n",
        "print('Predicted: ', ' '.join('%5s' % classes[predicted[j]]\n",
        "                              for j in range(4)))"
      ],
      "execution_count": 16,
      "outputs": [
        {
          "output_type": "stream",
          "text": [
            "('GroundTruth: ', '  cat  ship  ship plane')\n",
            "('Predicted: ', '  cat   car   car  ship')\n"
          ],
          "name": "stdout"
        },
        {
          "output_type": "display_data",
          "data": {
            "image/png": "[encoded data removed]",
            "text/plain": [
              "<matplotlib.figure.Figure at 0x7f66a73e96d0>"
            ]
          },
          "metadata": {
            "tags": []
          }
        }
      ]
    },
    {
      "metadata": {
        "id": "o8MHDvb2U75y",
        "colab_type": "code",
        "colab": {
          "base_uri": "https://localhost:8080/",
          "height": 34
        },
        "outputId": "89e66158-4b7b-451d-b7bd-e88de7fafd89"
      },
      "cell_type": "code",
      "source": [
        "#### Test the FNN Model\n",
        "# Look at how the network performs on the whole dataset.\n",
        "correct = 0\n",
        "total = 0\n",
        "with torch.no_grad():\n",
        "    for data in testloader:\n",
        "        images, labels = data\n",
        "        \n",
        "        \n",
        "        outputs = net(images)\n",
        "        _, predicted = torch.max(outputs.data, 1)        # Choose the best class from the output: The class with the best score\n",
        "        total += labels.size(0)                          # Increment the total count\n",
        "        correct += (predicted == labels).sum().item()    # Increment the correct count\n",
        "\n",
        "print('Accuracy of the network on the 10000 test images: %d %%' % (\n",
        "    100 * correct / total))"
      ],
      "execution_count": 17,
      "outputs": [
        {
          "output_type": "stream",
          "text": [
            "Accuracy of the network on the 10000 test images: 54 %\n"
          ],
          "name": "stdout"
        }
      ]
    },
    {
      "metadata": {
        "id": "NpZCKnfaWBcV",
        "colab_type": "code",
        "colab": {
          "base_uri": "https://localhost:8080/",
          "height": 189
        },
        "outputId": "2156abba-fd7c-4734-c6c7-44588f03566c"
      },
      "cell_type": "code",
      "source": [
        "#### Identify the classes of data that performed well and those that did not perform well\n",
        "class_correct = list(0. for i in range(10))\n",
        "class_total = list(0. for i in range(10))\n",
        "with torch.no_grad():\n",
        "    for data in testloader:\n",
        "        images, labels = data\n",
        "        outputs = net(images)\n",
        "        _, predicted = torch.max(outputs, 1)\n",
        "        c = (predicted == labels).squeeze()\n",
        "        for i in range(4):\n",
        "            label = labels[i]\n",
        "            class_correct[label] += c[i].item()\n",
        "            class_total[label] += 1\n",
        "\n",
        "\n",
        "for i in range(10):\n",
        "    print('Accuracy of %5s : %2d %%' % (\n",
        "        classes[i], 100 * class_correct[i] / class_total[i]))"
      ],
      "execution_count": 18,
      "outputs": [
        {
          "output_type": "stream",
          "text": [
            "Accuracy of plane : 67 %\n",
            "Accuracy of   car : 73 %\n",
            "Accuracy of  bird : 40 %\n",
            "Accuracy of   cat : 31 %\n",
            "Accuracy of  deer : 56 %\n",
            "Accuracy of   dog : 44 %\n",
            "Accuracy of  frog : 42 %\n",
            "Accuracy of horse : 66 %\n",
            "Accuracy of  ship : 64 %\n",
            "Accuracy of truck : 56 %\n"
          ],
          "name": "stdout"
        }
      ]
    },
    {
      "metadata": {
        "id": "ONCPz8d_aDL2",
        "colab_type": "text"
      },
      "cell_type": "markdown",
      "source": [
        "# 6: Training Network on GPU"
      ]
    },
    {
      "metadata": {
        "id": "xjFS68jtaKDi",
        "colab_type": "code",
        "colab": {
          "base_uri": "https://localhost:8080/",
          "height": 34
        },
        "outputId": "d970432e-5e2c-4c9a-d096-af3dfefc8bbe"
      },
      "cell_type": "code",
      "source": [
        "#### Training on GPU\n",
        "# Just like how you transfer a Tensor on to the GPU, you transfer the neural\n",
        "# net onto the GPU.\n",
        "#\n",
        "# Let's first define our device as the first visible cuda device if we have\n",
        "# CUDA available:\n",
        "\n",
        "device = torch.device(\"cuda:0\" if torch.cuda.is_available() else \"cpu\")\n",
        "\n",
        "# Assume that we are on a CUDA machine, then this should print a CUDA device:\n",
        "\n",
        "print(device)\n",
        "\n",
        "# The rest of this section assumes that `device` is a CUDA device.\n",
        "#\n",
        "# Then these methods will recursively go over all modules and convert their\n",
        "# parameters and buffers to CUDA tensors:\n",
        "#\n",
        "# .. code:: python\n",
        "#\n",
        "#     net.to(device)\n",
        "#\n",
        "#\n",
        "# Remember that you will have to send the inputs and targets at every step\n",
        "# to the GPU too:\n",
        "#\n",
        "# .. code:: python\n",
        "#\n",
        "#         inputs, labels = inputs.to(device), labels.to(device)\n",
        "#\n",
        "# Why dont I notice MASSIVE speedup compared to CPU? Because your network\n",
        "# is realllly small."
      ],
      "execution_count": 19,
      "outputs": [
        {
          "output_type": "stream",
          "text": [
            "cpu\n"
          ],
          "name": "stdout"
        }
      ]
    },
    {
      "metadata": {
        "id": "TEEV6alVawTR",
        "colab_type": "text"
      },
      "cell_type": "markdown",
      "source": [
        "# Additional Practice"
      ]
    },
    {
      "metadata": {
        "id": "hw3Q6qrya1xp",
        "colab_type": "code",
        "colab": {}
      },
      "cell_type": "code",
      "source": [
        "# **Exercise:** Try increasing the width of your network (argument 2 of\n",
        "# the first ``nn.Conv2d``, and argument 1 of the second ``nn.Conv2d`` –\n",
        "# they need to be the same number), see what kind of speedup you get.\n",
        "#\n",
        "# **Goals achieved**:\n",
        "#\n",
        "# - Understanding PyTorch's Tensor library and neural networks at a high level.\n",
        "# - Train a small neural network to classify images\n",
        "#\n",
        "# Training on multiple GPUs\n",
        "# -------------------------\n",
        "# If you want to see even more MASSIVE speedup using all of your GPUs,\n",
        "# please check out :doc:`data_parallel_tutorial`.\n",
        "#\n",
        "# Where do I go next?\n",
        "# -------------------\n",
        "#\n",
        "# -  :doc:`Train neural nets to play video games </intermediate/reinforcement_q_learning>`\n",
        "# -  `Train a state-of-the-art ResNet network on imagenet`_\n",
        "# -  `Train a face generator using Generative Adversarial Networks`_\n",
        "# -  `Train a word-level language model using Recurrent LSTM networks`_\n",
        "# -  `More examples`_\n",
        "# -  `More tutorials`_\n",
        "# -  `Discuss PyTorch on the Forums`_\n",
        "# -  `Chat with other users on Slack`_\n",
        "#\n",
        "# .. _Train a state-of-the-art ResNet network on imagenet: https://github.com/pytorch/examples/tree/master/imagenet\n",
        "# .. _Train a face generator using Generative Adversarial Networks: https://github.com/pytorch/examples/tree/master/dcgan\n",
        "# .. _Train a word-level language model using Recurrent LSTM networks: https://github.com/pytorch/examples/tree/master/word_language_model\n",
        "# .. _More examples: https://github.com/pytorch/examples\n",
        "# .. _More tutorials: https://github.com/pytorch/tutorials\n",
        "# .. _Discuss PyTorch on the Forums: https://discuss.pytorch.org/\n",
        "# .. _Chat with other users on Slack: http://pytorch.slack.com/messages/beginner/"
      ],
      "execution_count": 0,
      "outputs": []
    }
  ]
}